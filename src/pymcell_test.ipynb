{
 "cells": [
  {
   "cell_type": "code",
   "execution_count": null,
   "metadata": {
    "collapsed": false
   },
   "outputs": [],
   "source": [
    "import pymcell as m"
   ]
  },
  {
   "cell_type": "code",
   "execution_count": null,
   "metadata": {
    "collapsed": false
   },
   "outputs": [],
   "source": [
    "world = m.mcell_create()\n",
    "m.mcell_init_state(world)"
   ]
  },
  {
   "cell_type": "code",
   "execution_count": null,
   "metadata": {
    "collapsed": false
   },
   "outputs": [],
   "source": [
    "dt = 1e-5\n",
    "iterations = 100\n",
    "m.mcell_set_time_step(world, dt)\n",
    "m.mcell_set_iterations(world, iterations)"
   ]
  },
  {
   "cell_type": "code",
   "execution_count": null,
   "metadata": {
    "collapsed": true
   },
   "outputs": [],
   "source": [
    "# Define one surface molecule and three volume molecules\n",
    "vm1_sym = m.create_species(world, \"vm1\", 1e-6, False)"
   ]
  },
  {
   "cell_type": "code",
   "execution_count": null,
   "metadata": {
    "collapsed": true
   },
   "outputs": [],
   "source": [
    "# This is the world object. We just call it \"Scene\" here to be consistent\n",
    "# with the MDL output from Blender.\n",
    "scene_name = \"Scene\"\n",
    "scene = m.create_instance_object(world, scene_name)"
   ]
  },
  {
   "cell_type": "code",
   "execution_count": null,
   "metadata": {
    "collapsed": false
   },
   "outputs": [],
   "source": [
    "# vm1 -> NULL [1e5]\n",
    "reactants1 = m.mcell_add_to_species_list(vm1_sym, False, 0, None)\n",
    "m.create_reaction(world, reactants1, None, 1e3, name=\"rxn_vm1_null\")"
   ]
  },
  {
   "cell_type": "code",
   "execution_count": null,
   "metadata": {
    "collapsed": false
   },
   "outputs": [],
   "source": [
    "# Release 500 vm1 molecules in a spherical shape\n",
    "pos_vec3 = m.Vector3()\n",
    "diam_vec3 = m.Vector3(0.015, 0.015, 0.015)\n",
    "# XXX: It seems to be necessary to return some or all of these objects in\n",
    "# order to have a functioning release site even though we don't use them\n",
    "# anywhere after this call.\n",
    "position, diameter, sphere_release_object = m.create_release_site(\n",
    "    world, scene, pos_vec3, diam_vec3, m.SHAPE_SPHERICAL, 5000, 0, vm1_sym,\n",
    "    \"vm1_rel\")\n",
    "\n"
   ]
  },
  {
   "cell_type": "code",
   "execution_count": null,
   "metadata": {
    "collapsed": true
   },
   "outputs": [],
   "source": [
    "# Create viz data\n",
    "viz_list = m.mcell_add_to_species_list(vm1_sym, False, 0, None)\n",
    "m.mcell_create_viz_output(\n",
    "    world, \"./viz_data/test\", viz_list, 0, iterations, 1)\n",
    "\n",
    "# Create reaction data\n",
    "count_list3, os3, out_times3, output3 = m.create_count(\n",
    "    world, None, vm1_sym, \"react_data/vm1_world.dat\", dt)"
   ]
  },
  {
   "cell_type": "code",
   "execution_count": null,
   "metadata": {
    "collapsed": false
   },
   "outputs": [],
   "source": [
    "# Set partitions\n",
    "m.create_partitions(world, 0, -1.3, 1.3, 0.05)\n",
    "m.create_partitions(world, 1, -1.3, 1.3, 0.05)\n",
    "m.create_partitions(world, 2, -0.275, 0.275, 0.05)\n",
    "\n",
    "m.mcell_init_simulation(world)\n",
    "m.mcell_init_output(world)"
   ]
  },
  {
   "cell_type": "code",
   "execution_count": null,
   "metadata": {
    "collapsed": false
   },
   "outputs": [],
   "source": [
    "def run_sim():\n",
    "    output_freq = 10\n",
    "    for i in range(iterations):\n",
    "        m.mcell_run_iteration(world, output_freq, 0)\n",
    "    m.mcell_flush_data(world)\n",
    "    m.mcell_print_final_warnings(world)\n",
    "    m.mcell_print_final_statistics(world)"
   ]
  },
  {
   "cell_type": "code",
   "execution_count": null,
   "metadata": {
    "collapsed": true
   },
   "outputs": [],
   "source": [
    "run_sim()"
   ]
  },
  {
   "cell_type": "code",
   "execution_count": null,
   "metadata": {
    "collapsed": true
   },
   "outputs": [],
   "source": [
    "import pandas as pd\n",
    "import matplotlib as mpl\n",
    "import matplotlib.pyplot as plt\n",
    "import seaborn"
   ]
  },
  {
   "cell_type": "code",
   "execution_count": null,
   "metadata": {
    "collapsed": true
   },
   "outputs": [],
   "source": [
    "%matplotlib inline"
   ]
  },
  {
   "cell_type": "code",
   "execution_count": null,
   "metadata": {
    "collapsed": false
   },
   "outputs": [],
   "source": [
    "cd ./react_data"
   ]
  },
  {
   "cell_type": "code",
   "execution_count": null,
   "metadata": {
    "collapsed": false
   },
   "outputs": [],
   "source": [
    "ls"
   ]
  },
  {
   "cell_type": "code",
   "execution_count": null,
   "metadata": {
    "collapsed": false
   },
   "outputs": [],
   "source": [
    "vm1_df = pd.read_csv(\"./vm1_world.dat\", delimiter=\" \", names = ['time', 'vm1_counts'], index_col='time')\n"
   ]
  },
  {
   "cell_type": "code",
   "execution_count": null,
   "metadata": {
    "collapsed": false
   },
   "outputs": [],
   "source": [
    "vm1_df.head()"
   ]
  },
  {
   "cell_type": "code",
   "execution_count": null,
   "metadata": {
    "collapsed": false
   },
   "outputs": [],
   "source": [
    "vm1_df.plot()"
   ]
  }
 ],
 "metadata": {
  "anaconda-cloud": {},
  "kernelspec": {
   "display_name": "Python [conda root]",
   "language": "python",
   "name": "conda-root-py"
  },
  "language_info": {
   "codemirror_mode": {
    "name": "ipython",
    "version": 3
   },
   "file_extension": ".py",
   "mimetype": "text/x-python",
   "name": "python",
   "nbconvert_exporter": "python",
   "pygments_lexer": "ipython3",
   "version": "3.5.2"
  }
 },
 "nbformat": 4,
 "nbformat_minor": 1
}
